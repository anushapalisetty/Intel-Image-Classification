{
  "nbformat": 4,
  "nbformat_minor": 0,
  "metadata": {
    "colab": {
      "name": "Densnet2 GitIntel Image Classification.ipynb",
      "provenance": [],
      "collapsed_sections": [],
      "machine_shape": "hm",
      "include_colab_link": true
    },
    "kernelspec": {
      "name": "python3",
      "display_name": "Python 3"
    },
    "accelerator": "GPU"
  },
  "cells": [
    {
      "cell_type": "markdown",
      "metadata": {
        "id": "view-in-github",
        "colab_type": "text"
      },
      "source": [
        "<a href=\"https://colab.research.google.com/github/anushapalisetty/Intel-Image-Classification/blob/main/Densnet2_Git_Intel_Image_Classification.ipynb\" target=\"_parent\"><img src=\"https://colab.research.google.com/assets/colab-badge.svg\" alt=\"Open In Colab\"/></a>"
      ]
    },
    {
      "cell_type": "code",
      "metadata": {
        "id": "rMPAUDZRp-8v"
      },
      "source": [
        "import numpy as np \n",
        "import cv2\n",
        "import pandas as pd\n",
        "\n",
        "\n"
      ],
      "execution_count": 1,
      "outputs": []
    },
    {
      "cell_type": "code",
      "metadata": {
        "colab": {
          "base_uri": "https://localhost:8080/"
        },
        "id": "7OTuSIokWJfs",
        "outputId": "51fd007b-176d-4bae-c6af-e5383e7158c9"
      },
      "source": [
        "from google.colab import drive\n",
        "drive.mount('/content/drive')"
      ],
      "execution_count": 2,
      "outputs": [
        {
          "output_type": "stream",
          "text": [
            "Mounted at /content/drive\n"
          ],
          "name": "stdout"
        }
      ]
    },
    {
      "cell_type": "code",
      "metadata": {
        "id": "PXzwgZQEXAR1",
        "colab": {
          "base_uri": "https://localhost:8080/"
        },
        "outputId": "285c4f62-9ef7-4433-92d2-eb5f428ec8b7"
      },
      "source": [
        "#Image Generator\n",
        "from tensorflow.keras.preprocessing.image import ImageDataGenerator\n",
        "\n",
        "# Add data-augmentation parameters to ImageDataGenerator\n",
        "# train_datagen = ImageDataGenerator(rescale = 1./255.,horizontal_flip=True,shear_range=0.2,  \n",
        "#     zoom_range=0.2, validation_split=0.1)\n",
        "train_datagen = ImageDataGenerator(horizontal_flip=True,shear_range=0.2,  \n",
        "    zoom_range=0.2, validation_split=0.1)\n",
        "\"\"\"train_datagen = ImageDataGenerator(rescale = 1./255,\n",
        "\t    rotation_range=15,\n",
        "      width_shift_range=0.1,\n",
        "      height_shift_range=0.1,\n",
        "      shear_range=0.01,\n",
        "      zoom_range=[0.1, 1.5],\n",
        "      horizontal_flip=True,\n",
        "      fill_mode='nearest',\n",
        "      zca_whitening=True,\n",
        "      brightness_range=[0.1, 2]\n",
        ")\"\"\"\n",
        "\n",
        "\n",
        "train_generator=train_datagen.flow_from_directory(\n",
        "     '/content/drive/My Drive/Colab Notebooks/DL_Project_Data/seg_train/seg_train/',\n",
        "      target_size=(150,150),\n",
        "      batch_size=64,\n",
        "      class_mode='sparse',\n",
        "      seed=2209,\n",
        "      subset='training'\n",
        "    \n",
        ")\n",
        "\n",
        "validation_generator=train_datagen.flow_from_directory(\n",
        "      '/content/drive/My Drive/Colab Notebooks/DL_Project_Data/seg_train/seg_train/',\n",
        "      target_size=(150,150),\n",
        "      batch_size=64,\n",
        "      class_mode='sparse',\n",
        "      seed=2209,\n",
        "      subset='validation'\n",
        "    \n",
        ")\n",
        "\n",
        "#test_datagen = ImageDataGenerator(rescale = 1./255.)\n",
        "test_datagen = ImageDataGenerator()\n",
        "test_generator = test_datagen.flow_from_directory(\n",
        "    '/content/drive/My Drive/Colab Notebooks/DL_Project_Data/seg_test/seg_test/', \n",
        "    target_size=(150,150),\n",
        "    batch_size=64,\n",
        "    class_mode='sparse',\n",
        "    seed=2209\n",
        ") \n",
        "\n",
        "test1_datagen = ImageDataGenerator()\n",
        "test1_generator = test1_datagen.flow_from_directory(\n",
        "    '/content/drive/My Drive/Colab Notebooks/DL_Project_Data/seg_test/seg_test/', \n",
        "    target_size=(150,150),\n",
        "    batch_size=1,\n",
        "    class_mode=None,\n",
        "    shuffle=False,\n",
        "    seed=2209\n",
        ") "
      ],
      "execution_count": 5,
      "outputs": [
        {
          "output_type": "stream",
          "text": [
            "Found 12667 images belonging to 6 classes.\n",
            "Found 1406 images belonging to 6 classes.\n",
            "Found 3000 images belonging to 6 classes.\n",
            "Found 3000 images belonging to 6 classes.\n"
          ],
          "name": "stdout"
        }
      ]
    },
    {
      "cell_type": "code",
      "metadata": {
        "id": "PRuPXOKTtrxD"
      },
      "source": [
        ""
      ],
      "execution_count": 5,
      "outputs": []
    },
    {
      "cell_type": "markdown",
      "metadata": {
        "id": "LknkS-WQtYuG"
      },
      "source": [
        "# **DenseNet121**"
      ]
    },
    {
      "cell_type": "code",
      "metadata": {
        "id": "LzvHg8admvlF",
        "colab": {
          "base_uri": "https://localhost:8080/"
        },
        "outputId": "4ad78306-3e39-46d3-e045-339cf503f72b"
      },
      "source": [
        "from keras.layers import *\n",
        "from keras.models import Sequential\n",
        "from keras.models import Model\n",
        "from keras.layers import Dense\n",
        "from keras.layers import Dropout\n",
        "from keras.layers import BatchNormalization\n",
        "import numpy as np \n",
        "from keras.applications.densenet import DenseNet121\n",
        "import keras\n",
        "\n",
        "\n",
        "base_model1=DenseNet121(include_top=False, weights= 'imagenet',  input_shape=(150,150,3), pooling='avg')\n",
        "base_model1.trainable = False\n",
        "\n",
        "x = Dense(256, activation='relu')(base_model1.output)\n",
        "x = Dropout(0.5)(x)\n",
        "x = Dense(6, activation='softmax')(x)\n",
        "\n",
        "transfer_model1 = Model(base_model1.input, x) \n",
        "transfer_model1.compile(optimizer =keras.optimizers.SGD(lr=0.0001), \n",
        "              loss = 'sparse_categorical_crossentropy', \n",
        "              metrics = ['accuracy'])"
      ],
      "execution_count": 6,
      "outputs": [
        {
          "output_type": "stream",
          "text": [
            "Downloading data from https://storage.googleapis.com/tensorflow/keras-applications/densenet/densenet121_weights_tf_dim_ordering_tf_kernels_notop.h5\n",
            "29089792/29084464 [==============================] - 2s 0us/step\n"
          ],
          "name": "stdout"
        }
      ]
    },
    {
      "cell_type": "code",
      "metadata": {
        "id": "swSkPiZiOYYx",
        "colab": {
          "base_uri": "https://localhost:8080/"
        },
        "outputId": "d1d88111-0537-4098-8c9d-f39e75d3a4dc"
      },
      "source": [
        "import tensorflow as tf\n",
        "reduce = keras.callbacks.ReduceLROnPlateau(monitor='val_loss', factor=0.1, patience=10, mode='auto')\n",
        "history2 = transfer_model1.fit_generator(\n",
        "            train_generator,\n",
        "            steps_per_epoch=int(12667 /64),\n",
        "            epochs=60,\n",
        "            validation_data=validation_generator,\n",
        "            validation_steps=int(1406 /64),\n",
        "            callbacks=[reduce],\n",
        "            verbose=1)\n",
        "transfer_model1.save('/content/drive/My Drive/Colab Notebooks/DL_Project_Data/model_Dense_Git_4.hd5')\n",
        "\n",
        "\n",
        "import pandas as pd\n",
        "df_cnn = pd.DataFrame(history2.history)      \n",
        "# saving the dataframe  \n",
        "df_cnn.to_csv('/content/drive/My Drive/Colab Notebooks/DL_Project_Data/model_Dense_Git_4_History.csv')  \n"
      ],
      "execution_count": 7,
      "outputs": [
        {
          "output_type": "stream",
          "text": [
            "WARNING:tensorflow:From <ipython-input-7-33d943b3ef93>:10: Model.fit_generator (from tensorflow.python.keras.engine.training) is deprecated and will be removed in a future version.\n",
            "Instructions for updating:\n",
            "Please use Model.fit, which supports generators.\n",
            "Epoch 1/60\n",
            "197/197 [==============================] - 6558s 33s/step - loss: 5.8754 - accuracy: 0.3041 - val_loss: 2.0854 - val_accuracy: 0.4643\n",
            "Epoch 2/60\n",
            "197/197 [==============================] - 83s 423ms/step - loss: 3.5072 - accuracy: 0.3870 - val_loss: 1.5023 - val_accuracy: 0.5432\n",
            "Epoch 3/60\n",
            "197/197 [==============================] - 84s 425ms/step - loss: 2.5875 - accuracy: 0.4283 - val_loss: 1.2921 - val_accuracy: 0.5722\n",
            "Epoch 4/60\n",
            "197/197 [==============================] - 82s 418ms/step - loss: 2.0825 - accuracy: 0.4560 - val_loss: 1.1793 - val_accuracy: 0.5826\n",
            "Epoch 5/60\n",
            "197/197 [==============================] - 83s 421ms/step - loss: 1.8141 - accuracy: 0.4735 - val_loss: 1.1254 - val_accuracy: 0.5938\n",
            "Epoch 6/60\n",
            "197/197 [==============================] - 83s 423ms/step - loss: 1.6403 - accuracy: 0.4954 - val_loss: 1.0878 - val_accuracy: 0.6027\n",
            "Epoch 7/60\n",
            "197/197 [==============================] - 82s 415ms/step - loss: 1.4938 - accuracy: 0.5087 - val_loss: 1.0804 - val_accuracy: 0.6116\n",
            "Epoch 8/60\n",
            "197/197 [==============================] - 81s 409ms/step - loss: 1.4443 - accuracy: 0.5184 - val_loss: 1.0613 - val_accuracy: 0.6213\n",
            "Epoch 9/60\n",
            "197/197 [==============================] - 80s 406ms/step - loss: 1.3792 - accuracy: 0.5273 - val_loss: 1.0214 - val_accuracy: 0.6287\n",
            "Epoch 10/60\n",
            "197/197 [==============================] - 81s 410ms/step - loss: 1.3282 - accuracy: 0.5308 - val_loss: 1.0000 - val_accuracy: 0.6228\n",
            "Epoch 11/60\n",
            "197/197 [==============================] - 80s 404ms/step - loss: 1.3025 - accuracy: 0.5380 - val_loss: 1.0076 - val_accuracy: 0.6376\n",
            "Epoch 12/60\n",
            "197/197 [==============================] - 80s 405ms/step - loss: 1.2710 - accuracy: 0.5438 - val_loss: 0.9842 - val_accuracy: 0.6280\n",
            "Epoch 13/60\n",
            "197/197 [==============================] - 80s 405ms/step - loss: 1.2300 - accuracy: 0.5545 - val_loss: 0.9933 - val_accuracy: 0.6347\n",
            "Epoch 14/60\n",
            "197/197 [==============================] - 81s 409ms/step - loss: 1.2249 - accuracy: 0.5553 - val_loss: 0.9668 - val_accuracy: 0.6376\n",
            "Epoch 15/60\n",
            "197/197 [==============================] - 80s 407ms/step - loss: 1.1995 - accuracy: 0.5634 - val_loss: 0.9486 - val_accuracy: 0.6555\n",
            "Epoch 16/60\n",
            "197/197 [==============================] - 82s 414ms/step - loss: 1.1919 - accuracy: 0.5576 - val_loss: 0.9605 - val_accuracy: 0.6555\n",
            "Epoch 17/60\n",
            "197/197 [==============================] - 79s 402ms/step - loss: 1.1687 - accuracy: 0.5653 - val_loss: 0.9591 - val_accuracy: 0.6481\n",
            "Epoch 18/60\n",
            "197/197 [==============================] - 80s 405ms/step - loss: 1.1494 - accuracy: 0.5787 - val_loss: 0.9494 - val_accuracy: 0.6711\n",
            "Epoch 19/60\n",
            "197/197 [==============================] - 79s 401ms/step - loss: 1.1388 - accuracy: 0.5790 - val_loss: 0.9419 - val_accuracy: 0.6458\n",
            "Epoch 20/60\n",
            "197/197 [==============================] - 79s 402ms/step - loss: 1.1253 - accuracy: 0.5818 - val_loss: 0.9269 - val_accuracy: 0.6674\n",
            "Epoch 21/60\n",
            "197/197 [==============================] - 79s 402ms/step - loss: 1.1135 - accuracy: 0.5797 - val_loss: 0.9240 - val_accuracy: 0.6652\n",
            "Epoch 22/60\n",
            "197/197 [==============================] - 80s 406ms/step - loss: 1.1030 - accuracy: 0.5901 - val_loss: 0.9133 - val_accuracy: 0.6763\n",
            "Epoch 23/60\n",
            "197/197 [==============================] - 79s 402ms/step - loss: 1.0894 - accuracy: 0.5947 - val_loss: 0.8956 - val_accuracy: 0.6637\n",
            "Epoch 24/60\n",
            "197/197 [==============================] - 79s 400ms/step - loss: 1.0827 - accuracy: 0.5937 - val_loss: 0.9162 - val_accuracy: 0.6786\n",
            "Epoch 25/60\n",
            "197/197 [==============================] - 79s 401ms/step - loss: 1.0852 - accuracy: 0.5945 - val_loss: 0.9187 - val_accuracy: 0.6726\n",
            "Epoch 26/60\n",
            "197/197 [==============================] - 80s 404ms/step - loss: 1.0716 - accuracy: 0.6033 - val_loss: 0.8991 - val_accuracy: 0.6860\n",
            "Epoch 27/60\n",
            "197/197 [==============================] - 79s 402ms/step - loss: 1.0564 - accuracy: 0.6049 - val_loss: 0.9052 - val_accuracy: 0.6756\n",
            "Epoch 28/60\n",
            "197/197 [==============================] - 79s 402ms/step - loss: 1.0591 - accuracy: 0.6026 - val_loss: 0.8793 - val_accuracy: 0.6726\n",
            "Epoch 29/60\n",
            "197/197 [==============================] - 79s 401ms/step - loss: 1.0451 - accuracy: 0.6084 - val_loss: 0.8852 - val_accuracy: 0.6778\n",
            "Epoch 30/60\n",
            "197/197 [==============================] - 80s 407ms/step - loss: 1.0397 - accuracy: 0.6062 - val_loss: 0.9048 - val_accuracy: 0.6808\n",
            "Epoch 31/60\n",
            "197/197 [==============================] - 79s 402ms/step - loss: 1.0378 - accuracy: 0.6090 - val_loss: 0.8735 - val_accuracy: 0.6942\n",
            "Epoch 32/60\n",
            "197/197 [==============================] - 79s 401ms/step - loss: 1.0195 - accuracy: 0.6171 - val_loss: 0.8737 - val_accuracy: 0.6868\n",
            "Epoch 33/60\n",
            "197/197 [==============================] - 79s 400ms/step - loss: 1.0283 - accuracy: 0.6095 - val_loss: 0.8676 - val_accuracy: 0.6778\n",
            "Epoch 34/60\n",
            "197/197 [==============================] - 80s 406ms/step - loss: 1.0174 - accuracy: 0.6187 - val_loss: 0.8748 - val_accuracy: 0.6882\n",
            "Epoch 35/60\n",
            "197/197 [==============================] - 79s 401ms/step - loss: 1.0104 - accuracy: 0.6195 - val_loss: 0.8875 - val_accuracy: 0.6815\n",
            "Epoch 36/60\n",
            "197/197 [==============================] - 79s 401ms/step - loss: 1.0067 - accuracy: 0.6207 - val_loss: 0.8683 - val_accuracy: 0.6882\n",
            "Epoch 37/60\n",
            "197/197 [==============================] - 80s 406ms/step - loss: 0.9993 - accuracy: 0.6269 - val_loss: 0.8534 - val_accuracy: 0.6949\n",
            "Epoch 38/60\n",
            "197/197 [==============================] - 78s 398ms/step - loss: 0.9947 - accuracy: 0.6240 - val_loss: 0.8393 - val_accuracy: 0.7039\n",
            "Epoch 39/60\n",
            "197/197 [==============================] - 78s 397ms/step - loss: 0.9930 - accuracy: 0.6164 - val_loss: 0.8562 - val_accuracy: 0.6912\n",
            "Epoch 40/60\n",
            "197/197 [==============================] - 78s 398ms/step - loss: 0.9914 - accuracy: 0.6229 - val_loss: 0.8702 - val_accuracy: 0.7024\n",
            "Epoch 41/60\n",
            "197/197 [==============================] - 79s 403ms/step - loss: 0.9856 - accuracy: 0.6285 - val_loss: 0.8370 - val_accuracy: 0.7113\n",
            "Epoch 42/60\n",
            "197/197 [==============================] - 78s 397ms/step - loss: 0.9752 - accuracy: 0.6311 - val_loss: 0.8444 - val_accuracy: 0.7031\n",
            "Epoch 43/60\n",
            "197/197 [==============================] - 78s 398ms/step - loss: 0.9742 - accuracy: 0.6340 - val_loss: 0.8389 - val_accuracy: 0.6949\n",
            "Epoch 44/60\n",
            "197/197 [==============================] - 79s 399ms/step - loss: 0.9652 - accuracy: 0.6361 - val_loss: 0.8225 - val_accuracy: 0.7158\n",
            "Epoch 45/60\n",
            "197/197 [==============================] - 79s 403ms/step - loss: 0.9804 - accuracy: 0.6300 - val_loss: 0.8342 - val_accuracy: 0.7091\n",
            "Epoch 46/60\n",
            "197/197 [==============================] - 79s 399ms/step - loss: 0.9637 - accuracy: 0.6348 - val_loss: 0.8382 - val_accuracy: 0.7098\n",
            "Epoch 47/60\n",
            "197/197 [==============================] - 79s 399ms/step - loss: 0.9670 - accuracy: 0.6345 - val_loss: 0.8465 - val_accuracy: 0.6875\n",
            "Epoch 48/60\n",
            "197/197 [==============================] - 79s 400ms/step - loss: 0.9627 - accuracy: 0.6370 - val_loss: 0.8284 - val_accuracy: 0.7068\n",
            "Epoch 49/60\n",
            "197/197 [==============================] - 79s 403ms/step - loss: 0.9621 - accuracy: 0.6320 - val_loss: 0.8401 - val_accuracy: 0.6935\n",
            "Epoch 50/60\n",
            "197/197 [==============================] - 79s 399ms/step - loss: 0.9438 - accuracy: 0.6448 - val_loss: 0.8333 - val_accuracy: 0.7128\n",
            "Epoch 51/60\n",
            "197/197 [==============================] - 79s 399ms/step - loss: 0.9476 - accuracy: 0.6430 - val_loss: 0.8263 - val_accuracy: 0.7061\n",
            "Epoch 52/60\n",
            "197/197 [==============================] - 79s 399ms/step - loss: 0.9386 - accuracy: 0.6413 - val_loss: 0.8308 - val_accuracy: 0.6979\n",
            "Epoch 53/60\n",
            "197/197 [==============================] - 79s 403ms/step - loss: 0.9567 - accuracy: 0.6408 - val_loss: 0.8182 - val_accuracy: 0.7076\n",
            "Epoch 54/60\n",
            "197/197 [==============================] - 78s 398ms/step - loss: 0.9353 - accuracy: 0.6481 - val_loss: 0.8310 - val_accuracy: 0.7039\n",
            "Epoch 55/60\n",
            "197/197 [==============================] - 78s 398ms/step - loss: 0.9391 - accuracy: 0.6422 - val_loss: 0.8053 - val_accuracy: 0.7061\n",
            "Epoch 56/60\n",
            "197/197 [==============================] - 78s 397ms/step - loss: 0.9365 - accuracy: 0.6487 - val_loss: 0.8020 - val_accuracy: 0.7001\n",
            "Epoch 57/60\n",
            "197/197 [==============================] - 79s 399ms/step - loss: 0.9195 - accuracy: 0.6563 - val_loss: 0.8050 - val_accuracy: 0.7292\n",
            "Epoch 58/60\n",
            "197/197 [==============================] - 78s 397ms/step - loss: 0.9205 - accuracy: 0.6497 - val_loss: 0.8167 - val_accuracy: 0.7113\n",
            "Epoch 59/60\n",
            "197/197 [==============================] - 78s 397ms/step - loss: 0.9213 - accuracy: 0.6531 - val_loss: 0.8084 - val_accuracy: 0.7106\n",
            "Epoch 60/60\n",
            "197/197 [==============================] - 79s 399ms/step - loss: 0.9216 - accuracy: 0.6497 - val_loss: 0.8180 - val_accuracy: 0.7180\n",
            "WARNING:tensorflow:From /usr/local/lib/python3.6/dist-packages/tensorflow/python/training/tracking/tracking.py:111: Model.state_updates (from tensorflow.python.keras.engine.training) is deprecated and will be removed in a future version.\n",
            "Instructions for updating:\n",
            "This property should not be used in TensorFlow 2.0, as updates are applied automatically.\n",
            "WARNING:tensorflow:From /usr/local/lib/python3.6/dist-packages/tensorflow/python/training/tracking/tracking.py:111: Layer.updates (from tensorflow.python.keras.engine.base_layer) is deprecated and will be removed in a future version.\n",
            "Instructions for updating:\n",
            "This property should not be used in TensorFlow 2.0, as updates are applied automatically.\n",
            "INFO:tensorflow:Assets written to: /content/drive/My Drive/Colab Notebooks/DL_Project_Data/model_Dense_Git_4.hd5/assets\n"
          ],
          "name": "stdout"
        }
      ]
    },
    {
      "cell_type": "code",
      "metadata": {
        "colab": {
          "base_uri": "https://localhost:8080/"
        },
        "id": "JkhfjPMeXbY2",
        "outputId": "3d02322d-f069-4968-c0de-425acd33b01d"
      },
      "source": [
        "import tensorflow as tf\n",
        "reduce =tf. keras.callbacks.ReduceLROnPlateau(monitor='val_loss', factor=0.1, patience=10, mode='auto')\n",
        "#accuracy=model1.evaluate_generator(test_generator)\n",
        "accuracy=transfer_model1.evaluate(test_generator,steps=len(test_generator)//32,callbacks=[reduce],verbose=2)\n",
        "print('Accuracy of the model on the test set: ',accuracy[1])"
      ],
      "execution_count": 8,
      "outputs": [
        {
          "output_type": "stream",
          "text": [
            "1/1 - 0s - loss: 0.7585 - accuracy: 0.7812\n",
            "Accuracy of the model on the test set:  0.78125\n"
          ],
          "name": "stdout"
        }
      ]
    },
    {
      "cell_type": "code",
      "metadata": {
        "colab": {
          "base_uri": "https://localhost:8080/",
          "height": 513
        },
        "id": "4U_Ik5NdP6bE",
        "outputId": "bf310abc-1130-41ea-b6b2-697e75cbe2b9"
      },
      "source": [
        "#Evaluating Accuracy and Loss of the model\n",
        "%matplotlib inline\n",
        "acc=history2.history['accuracy']\n",
        "val_acc=history2.history['val_accuracy']\n",
        "loss=history2.history['loss']\n",
        "val_loss=history2.history['val_loss']\n",
        "\n",
        "epochs=range(len(acc)) #No. of epochs\n",
        "\n",
        "#Plot training and validation accuracy per epoch\n",
        "import matplotlib.pyplot as plt\n",
        "plt.plot(epochs,acc,'b',label='Training Accuracy')\n",
        "plt.plot(epochs,val_acc,'r',label='Validation Accuracy')\n",
        "plt.legend()\n",
        "plt.figure()\n",
        "\n",
        "#Plot training and validation loss per epoch\n",
        "plt.plot(epochs,loss,'b',label='Training Loss')\n",
        "plt.plot(epochs,val_loss,'r',label='Validation Loss')\n",
        "plt.legend()\n",
        "plt.show()"
      ],
      "execution_count": 11,
      "outputs": [
        {
          "output_type": "display_data",
          "data": {
            "image/png": "[encoded data removed]",
            "text/plain": [
              "<Figure size 432x288 with 1 Axes>"
            ]
          },
          "metadata": {
            "tags": [],
            "needs_background": "light"
          }
        },
        {
          "output_type": "display_data",
          "data": {
            "image/png": "[encoded data removed]",
            "text/plain": [
              "<Figure size 432x288 with 1 Axes>"
            ]
          },
          "metadata": {
            "tags": [],
            "needs_background": "light"
          }
        }
      ]
    },
    {
      "cell_type": "code",
      "metadata": {
        "id": "m3kRnukmc42l"
      },
      "source": [
        "\n",
        "import keras\n",
        "#model1 = keras.models.load_model('/content/drive/My Drive/Colab Notebooks/DL_Project_Data/model.hd5')\n",
        "model2 = keras.models.load_model('/content/drive/My Drive/Colab Notebooks/DL_Project_Data/model_Dense_Git_4.hd5')"
      ],
      "execution_count": 12,
      "outputs": []
    },
    {
      "cell_type": "code",
      "metadata": {
        "colab": {
          "base_uri": "https://localhost:8080/"
        },
        "id": "D0THKYVwiyl5",
        "outputId": "91bc8e47-bb0e-4295-c61e-6e7f12812826"
      },
      "source": [
        "import tensorflow as tf\n",
        "reduce =tf. keras.callbacks.ReduceLROnPlateau(monitor='val_loss', factor=0.1, patience=10, mode='auto')\n",
        "#accuracy=model1.evaluate_generator(test_generator)\n",
        "accuracy=transfer_model1.evaluate(test_generator,steps=len(test_generator)//32,callbacks=[reduce],verbose=2)\n",
        "print('Accuracy of the model on the test set: ',accuracy[1])"
      ],
      "execution_count": 15,
      "outputs": [
        {
          "output_type": "stream",
          "text": [
            "1/1 - 0s - loss: 1.0568 - accuracy: 0.6250\n",
            "Accuracy of the model on the test set:  0.625\n"
          ],
          "name": "stdout"
        }
      ]
    },
    {
      "cell_type": "code",
      "metadata": {
        "id": "VFADeawGx5T-"
      },
      "source": [
        "import os\n",
        "path = '/content/drive/My Drive/Colab Notebooks/DL_Project_Data/seg_pred/seg_pred/'\n",
        "images = []\n",
        "\n",
        "x = os.listdir(\"/content/drive/My Drive/Colab Notebooks/DL_Project_Data/seg_pred/seg_pred/\")\n",
        "\n",
        "for i in x:\n",
        "    img = path + i\n",
        "    images.append(img)\n",
        "  \n",
        "\n",
        "labels = {\n",
        "    0 : \"buildings\" , \n",
        "    1 : \"forest\" , \n",
        "    2 : \"glacier\" , \n",
        "    3 : \"mountain\" , \n",
        "    4 : \"sea\" , \n",
        "    5 : \"street\"\n",
        "}\n",
        "\n",
        "from tensorflow.keras.preprocessing import image\n",
        "\n",
        "outputs = []\n",
        "ids = []\n",
        "for i in images:\n",
        "    img = image.load_img(i , target_size = (150,150))\n",
        "    img = image.img_to_array(img)\n",
        "    img = np.expand_dims(img , axis=0)\n",
        "    c = transfer_model1.predict([img])\n",
        "    pred_labels = np.argmax(c, axis = 1)\n",
        "    la = labels[pred_labels[0]]\n",
        "    \n",
        "    outputs.append(la)\n",
        "    ids.append(i)\n",
        "import pandas as pd\n",
        "data = pd.DataFrame({\n",
        "    \"Image\" : ids , \n",
        "    \"Label\" : outputs\n",
        "})"
      ],
      "execution_count": 16,
      "outputs": []
    },
    {
      "cell_type": "code",
      "metadata": {
        "colab": {
          "base_uri": "https://localhost:8080/"
        },
        "id": "q0pHWpXBieJZ",
        "outputId": "41c37687-7dcf-4123-9e04-18fc42a45ff1"
      },
      "source": [
        "data.Label.value_counts()"
      ],
      "execution_count": 18,
      "outputs": [
        {
          "output_type": "execute_result",
          "data": {
            "text/plain": [
              "forest       1516\n",
              "sea          1358\n",
              "mountain     1319\n",
              "buildings    1114\n",
              "glacier      1053\n",
              "street        944\n",
              "Name: Label, dtype: int64"
            ]
          },
          "metadata": {
            "tags": []
          },
          "execution_count": 18
        }
      ]
    },
    {
      "cell_type": "code",
      "metadata": {
        "id": "2PYdDmxxRfrJ"
      },
      "source": [
        "#img= '/content/drive/My Drive/Colab Notebooks/DL_Project_Data/seg_pred/seg_pred/georgia-state-university-1.png'\n",
        "#img= '/content/drive/My Drive/Colab Notebooks/DL_Project_Data/seg_pred/seg_pred/Cali_street.jpg'\n",
        "img= '/content/drive/My Drive/Colab Notebooks/DL_Project_Data/seg_pred/seg_pred/Pooru-Mountain.jpeg'\n",
        "#img= '/content/drive/My Drive/Colab Notebooks/DL_Project_Data/seg_pred/seg_pred/Meg_Sea.jpg'"
      ],
      "execution_count": 32,
      "outputs": []
    },
    {
      "cell_type": "code",
      "metadata": {
        "colab": {
          "base_uri": "https://localhost:8080/",
          "height": 269
        },
        "id": "at7BjbOjSJTP",
        "outputId": "6f75d119-399c-47dc-faab-5518e2e29fee"
      },
      "source": [
        "import cv2\n",
        "import matplotlib.pyplot as plt\n",
        "import numpy as np\n",
        "img=cv2.imread(img)\n",
        "img=cv2.resize(img,(150,150))\n",
        "plt.imshow(img.reshape([150,150,3]))\n",
        "img = np.reshape(img,[1,150,150,3])"
      ],
      "execution_count": 33,
      "outputs": [
        {
          "output_type": "display_data",
          "data": {
            "image/png": "[encoded data removed]",
            "text/plain": [
              "<Figure size 432x288 with 1 Axes>"
            ]
          },
          "metadata": {
            "tags": [],
            "needs_background": "light"
          }
        }
      ]
    },
    {
      "cell_type": "code",
      "metadata": {
        "colab": {
          "base_uri": "https://localhost:8080/"
        },
        "id": "BaVL-d46SMZl",
        "outputId": "c00da15d-a421-4fa0-a90a-d7232e828d96"
      },
      "source": [
        "transfer_model1.predict(img).round(2)"
      ],
      "execution_count": 34,
      "outputs": [
        {
          "output_type": "execute_result",
          "data": {
            "text/plain": [
              "array([[0.15, 0.01, 0.36, 0.27, 0.16, 0.05]], dtype=float32)"
            ]
          },
          "metadata": {
            "tags": []
          },
          "execution_count": 34
        }
      ]
    },
    {
      "cell_type": "code",
      "metadata": {
        "colab": {
          "base_uri": "https://localhost:8080/"
        },
        "id": "0S6qWOEGirTv",
        "outputId": "b1818193-455a-47af-cc84-289f390c7d8f"
      },
      "source": [
        "model2.predict(img).round(2)"
      ],
      "execution_count": 31,
      "outputs": [
        {
          "output_type": "execute_result",
          "data": {
            "text/plain": [
              "array([[0.04, 0.01, 0.14, 0.65, 0.16, 0.  ]], dtype=float32)"
            ]
          },
          "metadata": {
            "tags": []
          },
          "execution_count": 31
        }
      ]
    },
    {
      "cell_type": "code",
      "metadata": {
        "id": "6jNbE7Pkie2g"
      },
      "source": [
        "classes1=['buildings', 'forest' , 'glacier' , 'mountain', 'sea', 'street']"
      ],
      "execution_count": null,
      "outputs": []
    }
  ]
}