{
  "nbformat": 4,
  "nbformat_minor": 0,
  "metadata": {
    "colab": {
      "name": "Densnet GitIntel Image Classification.ipynb",
      "provenance": [],
      "collapsed_sections": [],
      "machine_shape": "hm",
      "include_colab_link": true
    },
    "kernelspec": {
      "name": "python3",
      "display_name": "Python 3"
    },
    "accelerator": "GPU"
  },
  "cells": [
    {
      "cell_type": "markdown",
      "metadata": {
        "id": "view-in-github",
        "colab_type": "text"
      },
      "source": [
        "<a href=\"https://colab.research.google.com/github/anushapalisetty/Intel-Image-Classification/blob/main/Densnet_GitIntel_Image_Classification.ipynb\" target=\"_parent\"><img src=\"https://colab.research.google.com/assets/colab-badge.svg\" alt=\"Open In Colab\"/></a>"
      ]
    },
    {
      "cell_type": "code",
      "metadata": {
        "id": "rMPAUDZRp-8v"
      },
      "source": [
        "import numpy as np \n",
        "import cv2\n",
        "import pandas as pd\n",
        "\n",
        "\n"
      ],
      "execution_count": 1,
      "outputs": []
    },
    {
      "cell_type": "code",
      "metadata": {
        "colab": {
          "base_uri": "https://localhost:8080/"
        },
        "id": "7OTuSIokWJfs",
        "outputId": "3c829af2-35ce-446b-9b89-f90fb2c38091"
      },
      "source": [
        "from google.colab import drive\n",
        "drive.mount('/content/drive')"
      ],
      "execution_count": 3,
      "outputs": [
        {
          "output_type": "stream",
          "text": [
            "Mounted at /content/drive\n"
          ],
          "name": "stdout"
        }
      ]
    },
    {
      "cell_type": "code",
      "metadata": {
        "id": "PXzwgZQEXAR1",
        "colab": {
          "base_uri": "https://localhost:8080/"
        },
        "outputId": "a13f516b-6f23-433f-e423-cb66ce3dbcc7"
      },
      "source": [
        "#Image Generator\n",
        "from tensorflow.keras.preprocessing.image import ImageDataGenerator\n",
        "\n",
        "# Add data-augmentation parameters to ImageDataGenerator\n",
        "train_datagen = ImageDataGenerator(rescale = 1./255.,horizontal_flip=True,shear_range=0.2,  \n",
        "    zoom_range=0.2, validation_split=0.1)\n",
        "\n",
        "\"\"\"train_datagen = ImageDataGenerator(rescale = 1./255,\n",
        "\t    rotation_range=15,\n",
        "      width_shift_range=0.1,\n",
        "      height_shift_range=0.1,\n",
        "      shear_range=0.01,\n",
        "      zoom_range=[0.1, 1.5],\n",
        "      horizontal_flip=True,\n",
        "      fill_mode='nearest',\n",
        "      zca_whitening=True,\n",
        "      brightness_range=[0.1, 2]\n",
        ")\"\"\"\n",
        "\n",
        "\n",
        "train_generator=train_datagen.flow_from_directory(\n",
        "     '/content/drive/My Drive/Colab Notebooks/DL_Project_Data/seg_train/seg_train/',\n",
        "      target_size=(150,150),\n",
        "      batch_size=64,\n",
        "      class_mode='sparse',\n",
        "      seed=2209,\n",
        "      subset='training'\n",
        "    \n",
        ")\n",
        "\n",
        "validation_generator=train_datagen.flow_from_directory(\n",
        "      '/content/drive/My Drive/Colab Notebooks/DL_Project_Data/seg_train/seg_train/',\n",
        "      target_size=(150,150),\n",
        "      batch_size=64,\n",
        "      class_mode='sparse',\n",
        "      seed=2209,\n",
        "      subset='validation'\n",
        "    \n",
        ")\n",
        "\n",
        "test_datagen = ImageDataGenerator(rescale = 1./255.)\n",
        "test_generator = test_datagen.flow_from_directory(\n",
        "    '/content/drive/My Drive/Colab Notebooks/DL_Project_Data/seg_test/seg_test/', \n",
        "    target_size=(150,150),\n",
        "    batch_size=32,\n",
        "    class_mode='sparse',\n",
        "    seed=2209\n",
        ") \n",
        "\n",
        "test1_datagen = ImageDataGenerator(rescale = 1./255.)\n",
        "test1_generator = test1_datagen.flow_from_directory(\n",
        "    '/content/drive/My Drive/Colab Notebooks/DL_Project_Data/seg_test/seg_test/', \n",
        "    target_size=(150,150),\n",
        "    batch_size=1,\n",
        "    class_mode=None,\n",
        "    shuffle=False,\n",
        "    seed=2209\n",
        ") "
      ],
      "execution_count": 4,
      "outputs": [
        {
          "output_type": "stream",
          "text": [
            "Found 12667 images belonging to 6 classes.\n",
            "Found 1406 images belonging to 6 classes.\n",
            "Found 3000 images belonging to 6 classes.\n",
            "Found 3000 images belonging to 6 classes.\n"
          ],
          "name": "stdout"
        }
      ]
    },
    {
      "cell_type": "code",
      "metadata": {
        "id": "PRuPXOKTtrxD"
      },
      "source": [
        ""
      ],
      "execution_count": 4,
      "outputs": []
    },
    {
      "cell_type": "markdown",
      "metadata": {
        "id": "LknkS-WQtYuG"
      },
      "source": [
        "# **DenseNet121**"
      ]
    },
    {
      "cell_type": "code",
      "metadata": {
        "id": "LzvHg8admvlF",
        "colab": {
          "base_uri": "https://localhost:8080/"
        },
        "outputId": "77c7d127-09d0-445c-c627-d9864719d355"
      },
      "source": [
        "from keras.layers import *\n",
        "from keras.models import Sequential\n",
        "from keras.models import Model\n",
        "from keras.layers import Dense\n",
        "from keras.layers import Dropout\n",
        "from keras.layers import BatchNormalization\n",
        "import numpy as np \n",
        "from keras.applications.densenet import DenseNet121\n",
        "import keras\n",
        "\n",
        "\n",
        "base_model1=DenseNet121(include_top=False, weights= 'imagenet',  input_shape=(150,150,3), pooling='avg')\n",
        "base_model1.trainable = False\n",
        "\n",
        "x = Dense(256, activation='relu')(base_model1.output)\n",
        "x = Dropout(0.5)(x)\n",
        "x = Dense(6, activation='softmax')(x)\n",
        "\n",
        "transfer_model1 = Model(base_model1.input, x) \n",
        "transfer_model1.compile(optimizer =keras.optimizers.Adam(lr=0.0001), \n",
        "              loss = 'sparse_categorical_crossentropy', \n",
        "              metrics = ['accuracy'])"
      ],
      "execution_count": 5,
      "outputs": [
        {
          "output_type": "stream",
          "text": [
            "Downloading data from https://storage.googleapis.com/tensorflow/keras-applications/densenet/densenet121_weights_tf_dim_ordering_tf_kernels_notop.h5\n",
            "29089792/29084464 [==============================] - 0s 0us/step\n"
          ],
          "name": "stdout"
        }
      ]
    },
    {
      "cell_type": "code",
      "metadata": {
        "id": "swSkPiZiOYYx",
        "colab": {
          "base_uri": "https://localhost:8080/"
        },
        "outputId": "e72093fa-f5fa-4117-baa1-e56cb4e4fdbf"
      },
      "source": [
        "import tensorflow as tf\n",
        "reduce = keras.callbacks.ReduceLROnPlateau(monitor='val_loss', factor=0.1, patience=10, mode='auto')\n",
        "history2 = transfer_model1.fit_generator(\n",
        "            train_generator,\n",
        "            steps_per_epoch=int(12667 /64),\n",
        "            epochs=60,\n",
        "            validation_data=validation_generator,\n",
        "            validation_steps=int(1406 /64),\n",
        "            callbacks=[reduce],\n",
        "            verbose=1)\n",
        "transfer_model1.save('/content/drive/My Drive/Colab Notebooks/DL_Project_Data/model_Dense_Git_3.hd5')\n"
      ],
      "execution_count": 6,
      "outputs": [
        {
          "output_type": "stream",
          "text": [
            "WARNING:tensorflow:From <ipython-input-6-835f08f7b0f4>:10: Model.fit_generator (from tensorflow.python.keras.engine.training) is deprecated and will be removed in a future version.\n",
            "Instructions for updating:\n",
            "Please use Model.fit, which supports generators.\n",
            "Epoch 1/60\n",
            "197/197 [==============================] - 3083s 16s/step - loss: 1.0193 - accuracy: 0.6313 - val_loss: 0.4593 - val_accuracy: 0.8467\n",
            "Epoch 2/60\n",
            "197/197 [==============================] - 99s 504ms/step - loss: 0.4995 - accuracy: 0.8158 - val_loss: 0.3581 - val_accuracy: 0.8772\n",
            "Epoch 3/60\n",
            "197/197 [==============================] - 97s 493ms/step - loss: 0.4234 - accuracy: 0.8404 - val_loss: 0.3275 - val_accuracy: 0.8854\n",
            "Epoch 4/60\n",
            "197/197 [==============================] - 96s 489ms/step - loss: 0.3909 - accuracy: 0.8574 - val_loss: 0.3235 - val_accuracy: 0.8884\n",
            "Epoch 5/60\n",
            "197/197 [==============================] - 97s 494ms/step - loss: 0.3679 - accuracy: 0.8656 - val_loss: 0.3023 - val_accuracy: 0.8914\n",
            "Epoch 6/60\n",
            "197/197 [==============================] - 96s 490ms/step - loss: 0.3501 - accuracy: 0.8724 - val_loss: 0.2948 - val_accuracy: 0.8996\n",
            "Epoch 7/60\n",
            "197/197 [==============================] - 96s 485ms/step - loss: 0.3288 - accuracy: 0.8789 - val_loss: 0.3079 - val_accuracy: 0.8951\n",
            "Epoch 8/60\n",
            "197/197 [==============================] - 96s 487ms/step - loss: 0.3152 - accuracy: 0.8815 - val_loss: 0.2724 - val_accuracy: 0.8988\n",
            "Epoch 9/60\n",
            "197/197 [==============================] - 96s 486ms/step - loss: 0.3069 - accuracy: 0.8873 - val_loss: 0.2802 - val_accuracy: 0.9018\n",
            "Epoch 10/60\n",
            "197/197 [==============================] - 96s 488ms/step - loss: 0.3007 - accuracy: 0.8879 - val_loss: 0.2829 - val_accuracy: 0.9040\n",
            "Epoch 11/60\n",
            "197/197 [==============================] - 97s 495ms/step - loss: 0.2894 - accuracy: 0.8941 - val_loss: 0.2772 - val_accuracy: 0.9003\n",
            "Epoch 12/60\n",
            "197/197 [==============================] - 97s 495ms/step - loss: 0.2805 - accuracy: 0.8975 - val_loss: 0.2613 - val_accuracy: 0.9040\n",
            "Epoch 13/60\n",
            "197/197 [==============================] - 97s 491ms/step - loss: 0.2767 - accuracy: 0.9000 - val_loss: 0.2882 - val_accuracy: 0.8973\n",
            "Epoch 14/60\n",
            "197/197 [==============================] - 97s 491ms/step - loss: 0.2790 - accuracy: 0.8959 - val_loss: 0.2749 - val_accuracy: 0.9070\n",
            "Epoch 15/60\n",
            "197/197 [==============================] - 99s 503ms/step - loss: 0.2617 - accuracy: 0.9007 - val_loss: 0.2652 - val_accuracy: 0.9048\n",
            "Epoch 16/60\n",
            "197/197 [==============================] - 96s 489ms/step - loss: 0.2573 - accuracy: 0.9040 - val_loss: 0.2629 - val_accuracy: 0.9055\n",
            "Epoch 17/60\n",
            "197/197 [==============================] - 95s 484ms/step - loss: 0.2574 - accuracy: 0.9061 - val_loss: 0.2760 - val_accuracy: 0.9025\n",
            "Epoch 18/60\n",
            "197/197 [==============================] - 97s 491ms/step - loss: 0.2556 - accuracy: 0.9072 - val_loss: 0.2595 - val_accuracy: 0.9070\n",
            "Epoch 19/60\n",
            "197/197 [==============================] - 95s 483ms/step - loss: 0.2543 - accuracy: 0.9037 - val_loss: 0.2610 - val_accuracy: 0.9115\n",
            "Epoch 20/60\n",
            "197/197 [==============================] - 95s 482ms/step - loss: 0.2471 - accuracy: 0.9108 - val_loss: 0.2817 - val_accuracy: 0.8996\n",
            "Epoch 21/60\n",
            "197/197 [==============================] - 97s 492ms/step - loss: 0.2420 - accuracy: 0.9099 - val_loss: 0.2539 - val_accuracy: 0.9048\n",
            "Epoch 22/60\n",
            "197/197 [==============================] - 96s 487ms/step - loss: 0.2456 - accuracy: 0.9095 - val_loss: 0.2843 - val_accuracy: 0.8973\n",
            "Epoch 23/60\n",
            "197/197 [==============================] - 97s 493ms/step - loss: 0.2349 - accuracy: 0.9140 - val_loss: 0.2486 - val_accuracy: 0.9077\n",
            "Epoch 24/60\n",
            "197/197 [==============================] - 98s 496ms/step - loss: 0.2345 - accuracy: 0.9099 - val_loss: 0.2598 - val_accuracy: 0.9062\n",
            "Epoch 25/60\n",
            "197/197 [==============================] - 98s 497ms/step - loss: 0.2286 - accuracy: 0.9147 - val_loss: 0.2591 - val_accuracy: 0.9025\n",
            "Epoch 26/60\n",
            "197/197 [==============================] - 97s 492ms/step - loss: 0.2328 - accuracy: 0.9151 - val_loss: 0.2697 - val_accuracy: 0.9003\n",
            "Epoch 27/60\n",
            "197/197 [==============================] - 98s 495ms/step - loss: 0.2217 - accuracy: 0.9180 - val_loss: 0.2642 - val_accuracy: 0.9040\n",
            "Epoch 28/60\n",
            "197/197 [==============================] - 96s 486ms/step - loss: 0.2168 - accuracy: 0.9190 - val_loss: 0.2766 - val_accuracy: 0.9018\n",
            "Epoch 29/60\n",
            "197/197 [==============================] - 96s 485ms/step - loss: 0.2244 - accuracy: 0.9157 - val_loss: 0.2671 - val_accuracy: 0.9048\n",
            "Epoch 30/60\n",
            "197/197 [==============================] - 97s 490ms/step - loss: 0.2134 - accuracy: 0.9185 - val_loss: 0.2600 - val_accuracy: 0.9048\n",
            "Epoch 31/60\n",
            "197/197 [==============================] - 98s 498ms/step - loss: 0.2137 - accuracy: 0.9204 - val_loss: 0.2694 - val_accuracy: 0.9055\n",
            "Epoch 32/60\n",
            "197/197 [==============================] - 96s 488ms/step - loss: 0.2120 - accuracy: 0.9207 - val_loss: 0.2532 - val_accuracy: 0.9137\n",
            "Epoch 33/60\n",
            "197/197 [==============================] - 97s 490ms/step - loss: 0.2101 - accuracy: 0.9209 - val_loss: 0.2595 - val_accuracy: 0.9040\n",
            "Epoch 34/60\n",
            "197/197 [==============================] - 98s 496ms/step - loss: 0.2069 - accuracy: 0.9245 - val_loss: 0.2512 - val_accuracy: 0.9070\n",
            "Epoch 35/60\n",
            "197/197 [==============================] - 97s 491ms/step - loss: 0.2082 - accuracy: 0.9222 - val_loss: 0.2585 - val_accuracy: 0.9070\n",
            "Epoch 36/60\n",
            "197/197 [==============================] - 97s 492ms/step - loss: 0.2074 - accuracy: 0.9226 - val_loss: 0.2559 - val_accuracy: 0.9085\n",
            "Epoch 37/60\n",
            "197/197 [==============================] - 97s 495ms/step - loss: 0.2019 - accuracy: 0.9242 - val_loss: 0.2514 - val_accuracy: 0.9159\n",
            "Epoch 38/60\n",
            "197/197 [==============================] - 95s 482ms/step - loss: 0.2008 - accuracy: 0.9276 - val_loss: 0.2493 - val_accuracy: 0.9077\n",
            "Epoch 39/60\n",
            "197/197 [==============================] - 95s 482ms/step - loss: 0.2042 - accuracy: 0.9240 - val_loss: 0.2510 - val_accuracy: 0.9100\n",
            "Epoch 40/60\n",
            "197/197 [==============================] - 97s 494ms/step - loss: 0.1990 - accuracy: 0.9253 - val_loss: 0.2634 - val_accuracy: 0.9018\n",
            "Epoch 41/60\n",
            "197/197 [==============================] - 96s 486ms/step - loss: 0.2017 - accuracy: 0.9268 - val_loss: 0.2558 - val_accuracy: 0.9122\n",
            "Epoch 42/60\n",
            "197/197 [==============================] - 96s 485ms/step - loss: 0.2056 - accuracy: 0.9234 - val_loss: 0.2608 - val_accuracy: 0.9174\n",
            "Epoch 43/60\n",
            "197/197 [==============================] - 98s 496ms/step - loss: 0.2008 - accuracy: 0.9264 - val_loss: 0.2566 - val_accuracy: 0.9070\n",
            "Epoch 44/60\n",
            "197/197 [==============================] - 96s 487ms/step - loss: 0.2014 - accuracy: 0.9252 - val_loss: 0.2650 - val_accuracy: 0.9062\n",
            "Epoch 45/60\n",
            "197/197 [==============================] - 96s 485ms/step - loss: 0.1970 - accuracy: 0.9270 - val_loss: 0.2562 - val_accuracy: 0.9115\n",
            "Epoch 46/60\n",
            "197/197 [==============================] - 96s 485ms/step - loss: 0.2034 - accuracy: 0.9253 - val_loss: 0.2639 - val_accuracy: 0.9025\n",
            "Epoch 47/60\n",
            "197/197 [==============================] - 98s 497ms/step - loss: 0.1997 - accuracy: 0.9260 - val_loss: 0.2650 - val_accuracy: 0.9070\n",
            "Epoch 48/60\n",
            "197/197 [==============================] - 94s 477ms/step - loss: 0.2018 - accuracy: 0.9264 - val_loss: 0.2655 - val_accuracy: 0.9100\n",
            "Epoch 49/60\n",
            "197/197 [==============================] - 94s 478ms/step - loss: 0.2028 - accuracy: 0.9249 - val_loss: 0.2528 - val_accuracy: 0.9018\n",
            "Epoch 50/60\n",
            "197/197 [==============================] - 96s 487ms/step - loss: 0.2016 - accuracy: 0.9249 - val_loss: 0.2620 - val_accuracy: 0.9033\n",
            "Epoch 51/60\n",
            "197/197 [==============================] - 96s 490ms/step - loss: 0.2018 - accuracy: 0.9268 - val_loss: 0.2575 - val_accuracy: 0.9048\n",
            "Epoch 52/60\n",
            "197/197 [==============================] - 95s 484ms/step - loss: 0.1942 - accuracy: 0.9301 - val_loss: 0.2610 - val_accuracy: 0.9055\n",
            "Epoch 53/60\n",
            "197/197 [==============================] - 97s 494ms/step - loss: 0.2038 - accuracy: 0.9241 - val_loss: 0.2814 - val_accuracy: 0.9033\n",
            "Epoch 54/60\n",
            "197/197 [==============================] - 96s 488ms/step - loss: 0.2011 - accuracy: 0.9222 - val_loss: 0.2691 - val_accuracy: 0.9122\n",
            "Epoch 55/60\n",
            "197/197 [==============================] - 96s 489ms/step - loss: 0.1998 - accuracy: 0.9256 - val_loss: 0.2609 - val_accuracy: 0.9048\n",
            "Epoch 56/60\n",
            "197/197 [==============================] - 100s 506ms/step - loss: 0.2003 - accuracy: 0.9260 - val_loss: 0.2606 - val_accuracy: 0.9077\n",
            "Epoch 57/60\n",
            "197/197 [==============================] - 98s 498ms/step - loss: 0.1991 - accuracy: 0.9256 - val_loss: 0.2687 - val_accuracy: 0.9003\n",
            "Epoch 58/60\n",
            "197/197 [==============================] - 97s 493ms/step - loss: 0.2024 - accuracy: 0.9257 - val_loss: 0.2705 - val_accuracy: 0.8966\n",
            "Epoch 59/60\n",
            "197/197 [==============================] - 97s 494ms/step - loss: 0.2014 - accuracy: 0.9260 - val_loss: 0.2482 - val_accuracy: 0.9040\n",
            "Epoch 60/60\n",
            "197/197 [==============================] - 95s 482ms/step - loss: 0.1988 - accuracy: 0.9276 - val_loss: 0.2567 - val_accuracy: 0.9077\n",
            "WARNING:tensorflow:From /usr/local/lib/python3.6/dist-packages/tensorflow/python/training/tracking/tracking.py:111: Model.state_updates (from tensorflow.python.keras.engine.training) is deprecated and will be removed in a future version.\n",
            "Instructions for updating:\n",
            "This property should not be used in TensorFlow 2.0, as updates are applied automatically.\n",
            "WARNING:tensorflow:From /usr/local/lib/python3.6/dist-packages/tensorflow/python/training/tracking/tracking.py:111: Layer.updates (from tensorflow.python.keras.engine.base_layer) is deprecated and will be removed in a future version.\n",
            "Instructions for updating:\n",
            "This property should not be used in TensorFlow 2.0, as updates are applied automatically.\n",
            "INFO:tensorflow:Assets written to: /content/drive/My Drive/Colab Notebooks/DL_Project_Data/model_Dense_Git_3.hd5/assets\n"
          ],
          "name": "stdout"
        }
      ]
    },
    {
      "cell_type": "code",
      "metadata": {
        "colab": {
          "base_uri": "https://localhost:8080/",
          "height": 248
        },
        "id": "JkhfjPMeXbY2",
        "outputId": "df43b14d-4df9-4502-9674-e5faba9b424a"
      },
      "source": [
        "transfer_model1.save('/content/drive/My Drive/Colab Notebooks/DL_Project_Data/model_Dense_Git_pro3.hd5')\n",
        "\n",
        "import pandas as pd\n",
        "df_cnn = pd.DataFrame(history.history)      \n",
        "# saving the dataframe  \n",
        "df_cnn.to_csv('/content/drive/My Drive/Colab Notebooks/DL_Project_Data/model_Dense_Git_3_History.csv')  "
      ],
      "execution_count": 7,
      "outputs": [
        {
          "output_type": "stream",
          "text": [
            "INFO:tensorflow:Assets written to: /content/drive/My Drive/Colab Notebooks/DL_Project_Data/model_Dense_Git_3.hd5/assets\n"
          ],
          "name": "stdout"
        },
        {
          "output_type": "error",
          "ename": "NameError",
          "evalue": "ignored",
          "traceback": [
            "\u001b[0;31m---------------------------------------------------------------------------\u001b[0m",
            "\u001b[0;31mNameError\u001b[0m                                 Traceback (most recent call last)",
            "\u001b[0;32m<ipython-input-7-a16c80ddeb19>\u001b[0m in \u001b[0;36m<module>\u001b[0;34m()\u001b[0m\n\u001b[1;32m      2\u001b[0m \u001b[0;34m\u001b[0m\u001b[0m\n\u001b[1;32m      3\u001b[0m \u001b[0;32mimport\u001b[0m \u001b[0mpandas\u001b[0m \u001b[0;32mas\u001b[0m \u001b[0mpd\u001b[0m\u001b[0;34m\u001b[0m\u001b[0;34m\u001b[0m\u001b[0m\n\u001b[0;32m----> 4\u001b[0;31m \u001b[0mdf_cnn\u001b[0m \u001b[0;34m=\u001b[0m \u001b[0mpd\u001b[0m\u001b[0;34m.\u001b[0m\u001b[0mDataFrame\u001b[0m\u001b[0;34m(\u001b[0m\u001b[0mhistory\u001b[0m\u001b[0;34m.\u001b[0m\u001b[0mhistory\u001b[0m\u001b[0;34m)\u001b[0m\u001b[0;34m\u001b[0m\u001b[0;34m\u001b[0m\u001b[0m\n\u001b[0m\u001b[1;32m      5\u001b[0m \u001b[0;31m# saving the dataframe\u001b[0m\u001b[0;34m\u001b[0m\u001b[0;34m\u001b[0m\u001b[0;34m\u001b[0m\u001b[0m\n\u001b[1;32m      6\u001b[0m \u001b[0mdf_cnn\u001b[0m\u001b[0;34m.\u001b[0m\u001b[0mto_csv\u001b[0m\u001b[0;34m(\u001b[0m\u001b[0;34m'/content/drive/My Drive/Colab Notebooks/DL_Project_Data/model_Dense_Git_3_History.csv'\u001b[0m\u001b[0;34m)\u001b[0m\u001b[0;34m\u001b[0m\u001b[0;34m\u001b[0m\u001b[0m\n",
            "\u001b[0;31mNameError\u001b[0m: name 'history' is not defined"
          ]
        }
      ]
    },
    {
      "cell_type": "code",
      "metadata": {
        "id": "7kvpCTLAPbeJ"
      },
      "source": [
        "accuracy1=transfer_model1.evaluate_generator(test_generator, steps=len(test_generator)//32,verbose=2)\n",
        "print('Accuracy of the model on the test set: ',accuracy1[1])"
      ],
      "execution_count": null,
      "outputs": []
    },
    {
      "cell_type": "code",
      "metadata": {
        "id": "VFADeawGx5T-"
      },
      "source": [
        "#Evaluating Accuracy and Loss of the model\n",
        "%matplotlib inline\n",
        "acc=history2.history['acc']\n",
        "val_acc=history2.history['val_acc']\n",
        "loss=history2.history['loss']\n",
        "val_loss=history2.history['val_loss']\n",
        "\n",
        "epochs=range(len(acc)) #No. of epochs\n",
        "\n",
        "#Plot training and validation accuracy per epoch\n",
        "import matplotlib.pyplot as plt\n",
        "plt.plot(epochs,acc,'b',label='Training Accuracy')\n",
        "plt.plot(epochs,val_acc,'r',label='Validation Accuracy')\n",
        "plt.legend()\n",
        "plt.figure()\n",
        "\n",
        "#Plot training and validation loss per epoch\n",
        "plt.plot(epochs,loss,'b',label='Training Loss')\n",
        "plt.plot(epochs,val_loss,'r',label='Validation Loss')\n",
        "plt.legend()\n",
        "plt.show()"
      ],
      "execution_count": null,
      "outputs": []
    },
    {
      "cell_type": "markdown",
      "metadata": {
        "id": "phuY0J9-Z-oE"
      },
      "source": [
        "# **ResNet50**"
      ]
    },
    {
      "cell_type": "code",
      "metadata": {
        "id": "k2LhcaEdWIAN"
      },
      "source": [
        "from keras.layers import *\n",
        "from keras.models import Sequential\n",
        "from keras.models import Model\n",
        "from keras.layers import Dense\n",
        "from keras.layers import Dropout\n",
        "from keras.layers import BatchNormalization\n",
        "import numpy as np \n",
        "from keras.applications.resnet50 import ResNet50\n",
        "import keras\n",
        "\n",
        "\n",
        "base_model2=ResNet50(include_top=False, weights= 'imagenet',  input_shape=(150,150,3), pooling='avg')\n",
        "base_model2.trainable = False\n",
        "\n",
        "x = Dense(512, activation='relu')(base_model2.output)\n",
        "x = Dropout(0.5)(x)\n",
        "x = Dense(6, activation='softmax')(x)\n",
        "\n",
        "transfer_model2 = Model(base_model2.input, x) \n",
        "transfer_model2.compile(optimizer =keras.optimizers.SGD(lr=0.0001), \n",
        "              loss = 'sparse_categorical_crossentropy', \n",
        "              metrics = ['accuracy'])"
      ],
      "execution_count": null,
      "outputs": []
    },
    {
      "cell_type": "code",
      "metadata": {
        "id": "Uy_KzouBWUzv"
      },
      "source": [
        "import tensorflow as tf\n",
        "reduce = keras.callbacks.ReduceLROnPlateau(monitor='val_loss', factor=0.1, patience=10, mode='auto')\n",
        "history3 = transfer_model2.fit_generator(\n",
        "            train_generator,\n",
        "            steps_per_epoch=int(12632/64),\n",
        "            epochs=50,\n",
        "            validation_data=validation_generator,\n",
        "            validation_steps=int(1402/64),\n",
        "            callbacks=[reduce],\n",
        "            verbose=1)"
      ],
      "execution_count": null,
      "outputs": []
    },
    {
      "cell_type": "code",
      "metadata": {
        "id": "o8ff46bzYnqI"
      },
      "source": [
        "accuracy2=transfer_model2.evaluate_generator(test_generator, steps=len(test_generator)//32,verbose=2)\n",
        "print('Accuracy of the model on the test set: ',accuracy2[1])"
      ],
      "execution_count": null,
      "outputs": []
    },
    {
      "cell_type": "code",
      "metadata": {
        "id": "oHH2ocMP3cgV"
      },
      "source": [
        "#Evaluating Accuracy and Loss of the model\n",
        "%matplotlib inline\n",
        "acc=history3.history['acc']\n",
        "val_acc=history3.history['val_acc']\n",
        "loss=history3.history['loss']\n",
        "val_loss=history3.history['val_loss']\n",
        "\n",
        "epochs=range(len(acc)) #No. of epochs\n",
        "\n",
        "#Plot training and validation accuracy per epoch\n",
        "import matplotlib.pyplot as plt\n",
        "plt.plot(epochs,acc,'b',label='Training Accuracy')\n",
        "plt.plot(epochs,val_acc,'r',label='Validation Accuracy')\n",
        "plt.legend()\n",
        "plt.figure()\n",
        "\n",
        "#Plot training and validation loss per epoch\n",
        "plt.plot(epochs,loss,'b',label='Training Loss')\n",
        "plt.plot(epochs,val_loss,'r',label='Validation Loss')\n",
        "plt.legend()\n",
        "plt.show()"
      ],
      "execution_count": null,
      "outputs": []
    }
  ]
}